{
 "cells": [
  {
   "cell_type": "markdown",
   "metadata": {},
   "source": [
    "# Analyzing League Difficulty"
   ]
  },
  {
   "cell_type": "code",
   "execution_count": 2,
   "metadata": {},
   "outputs": [],
   "source": [
    "#Importing Libraries\n",
    "import numpy as np #To handle Mathematical calculations\n",
    "import matplotlib.pyplot as plt #To plot charts \n",
    "%matplotlib inline\n",
    "import pandas as pd #TO import and manage datasets\n",
    "import glob\n",
    "import os"
   ]
  },
  {
   "cell_type": "code",
   "execution_count": 3,
   "metadata": {},
   "outputs": [],
   "source": [
    "path = r'C:\\Projects\\FYP\\Datasets\\Whoscored\\Points-Table' # use your path\n",
    "# path = r'/Users/suwadith/Desktop/Projects/FYP/Datasets/Whoscored/Points-Table' # use your path\n",
    "folder = glob.glob(path + \"/*.csv\")\n",
    "\n",
    "li = []\n",
    "\n",
    "for file in folder:\n",
    "#     df = pd.read_csv(filename, index_col=None, header=0)\n",
    "    individualTeamDataframe = pd.read_csv(file)\n",
    "    league = os.path.basename(file).split('-')[0]\n",
    "    season = os.path.basename(file).split('-')[3]\n",
    "    individualTeamDataframe['League'] = league\n",
    "    individualTeamDataframe['Season'] = season\n",
    "    li.append(individualTeamDataframe)\n",
    "\n",
    "# combinedDataframe = pd.concat(li, axis=0, ignore_index=True)\n",
    "combinedTeamDataframe = pd.concat(li)\n",
    "\n",
    "# dataset = pd.read_csv('C:\\Projects\\FYP\\Datasets\\Whoscored\\Points-Table\\LaLiga-Points-Table-2018-2019.csv')\n",
    "# league = 'LaLiga'"
   ]
  },
  {
   "cell_type": "code",
   "execution_count": 4,
   "metadata": {},
   "outputs": [
    {
     "data": {
      "text/html": [
       "<div>\n",
       "<style scoped>\n",
       "    .dataframe tbody tr th:only-of-type {\n",
       "        vertical-align: middle;\n",
       "    }\n",
       "\n",
       "    .dataframe tbody tr th {\n",
       "        vertical-align: top;\n",
       "    }\n",
       "\n",
       "    .dataframe thead th {\n",
       "        text-align: right;\n",
       "    }\n",
       "</style>\n",
       "<table border=\"1\" class=\"dataframe\">\n",
       "  <thead>\n",
       "    <tr style=\"text-align: right;\">\n",
       "      <th></th>\n",
       "      <th>Rank</th>\n",
       "      <th>Team</th>\n",
       "      <th>Played</th>\n",
       "      <th>Win</th>\n",
       "      <th>Draw</th>\n",
       "      <th>Loss</th>\n",
       "      <th>Goals For</th>\n",
       "      <th>Goals Against</th>\n",
       "      <th>Goal Difference</th>\n",
       "      <th>Points</th>\n",
       "      <th>League</th>\n",
       "      <th>Season</th>\n",
       "    </tr>\n",
       "  </thead>\n",
       "  <tbody>\n",
       "    <tr>\n",
       "      <td>0</td>\n",
       "      <td>1</td>\n",
       "      <td>Borussia Dortmund</td>\n",
       "      <td>34</td>\n",
       "      <td>23</td>\n",
       "      <td>6</td>\n",
       "      <td>5</td>\n",
       "      <td>67</td>\n",
       "      <td>22</td>\n",
       "      <td>45</td>\n",
       "      <td>75</td>\n",
       "      <td>Bundesliga</td>\n",
       "      <td>2010</td>\n",
       "    </tr>\n",
       "    <tr>\n",
       "      <td>1</td>\n",
       "      <td>2</td>\n",
       "      <td>Bayer Leverkusen</td>\n",
       "      <td>34</td>\n",
       "      <td>20</td>\n",
       "      <td>8</td>\n",
       "      <td>6</td>\n",
       "      <td>64</td>\n",
       "      <td>44</td>\n",
       "      <td>20</td>\n",
       "      <td>68</td>\n",
       "      <td>Bundesliga</td>\n",
       "      <td>2010</td>\n",
       "    </tr>\n",
       "    <tr>\n",
       "      <td>2</td>\n",
       "      <td>3</td>\n",
       "      <td>Bayern Munich</td>\n",
       "      <td>34</td>\n",
       "      <td>19</td>\n",
       "      <td>8</td>\n",
       "      <td>7</td>\n",
       "      <td>81</td>\n",
       "      <td>40</td>\n",
       "      <td>41</td>\n",
       "      <td>65</td>\n",
       "      <td>Bundesliga</td>\n",
       "      <td>2010</td>\n",
       "    </tr>\n",
       "    <tr>\n",
       "      <td>3</td>\n",
       "      <td>4</td>\n",
       "      <td>Hannover 96</td>\n",
       "      <td>34</td>\n",
       "      <td>19</td>\n",
       "      <td>3</td>\n",
       "      <td>12</td>\n",
       "      <td>49</td>\n",
       "      <td>45</td>\n",
       "      <td>4</td>\n",
       "      <td>60</td>\n",
       "      <td>Bundesliga</td>\n",
       "      <td>2010</td>\n",
       "    </tr>\n",
       "    <tr>\n",
       "      <td>4</td>\n",
       "      <td>5</td>\n",
       "      <td>Mainz 05</td>\n",
       "      <td>34</td>\n",
       "      <td>18</td>\n",
       "      <td>4</td>\n",
       "      <td>12</td>\n",
       "      <td>52</td>\n",
       "      <td>39</td>\n",
       "      <td>13</td>\n",
       "      <td>58</td>\n",
       "      <td>Bundesliga</td>\n",
       "      <td>2010</td>\n",
       "    </tr>\n",
       "  </tbody>\n",
       "</table>\n",
       "</div>"
      ],
      "text/plain": [
       "   Rank               Team  Played  Win  Draw  Loss  Goals For  Goals Against  \\\n",
       "0     1  Borussia Dortmund      34   23     6     5         67             22   \n",
       "1     2   Bayer Leverkusen      34   20     8     6         64             44   \n",
       "2     3      Bayern Munich      34   19     8     7         81             40   \n",
       "3     4        Hannover 96      34   19     3    12         49             45   \n",
       "4     5           Mainz 05      34   18     4    12         52             39   \n",
       "\n",
       "   Goal Difference  Points      League Season  \n",
       "0               45      75  Bundesliga   2010  \n",
       "1               20      68  Bundesliga   2010  \n",
       "2               41      65  Bundesliga   2010  \n",
       "3                4      60  Bundesliga   2010  \n",
       "4               13      58  Bundesliga   2010  "
      ]
     },
     "execution_count": 4,
     "metadata": {},
     "output_type": "execute_result"
    }
   ],
   "source": [
    "combinedTeamDataframe.head()\n",
    "# dataset['League'] = league\n",
    "# dataset"
   ]
  },
  {
   "cell_type": "code",
   "execution_count": 5,
   "metadata": {},
   "outputs": [
    {
     "data": {
      "text/plain": [
       "(918, 12)"
      ]
     },
     "execution_count": 5,
     "metadata": {},
     "output_type": "execute_result"
    }
   ],
   "source": [
    "combinedTeamDataframe.shape"
   ]
  },
  {
   "cell_type": "code",
   "execution_count": 6,
   "metadata": {},
   "outputs": [
    {
     "name": "stdout",
     "output_type": "stream",
     "text": [
      "<class 'pandas.core.frame.DataFrame'>\n",
      "Int64Index: 918 entries, 0 to 19\n",
      "Data columns (total 12 columns):\n",
      "Rank               918 non-null int64\n",
      "Team               918 non-null object\n",
      "Played             918 non-null int64\n",
      "Win                918 non-null int64\n",
      "Draw               918 non-null int64\n",
      "Loss               918 non-null int64\n",
      "Goals For          918 non-null int64\n",
      "Goals Against      918 non-null int64\n",
      "Goal Difference    918 non-null int64\n",
      "Points             918 non-null int64\n",
      "League             918 non-null object\n",
      "Season             918 non-null object\n",
      "dtypes: int64(9), object(3)\n",
      "memory usage: 93.2+ KB\n"
     ]
    }
   ],
   "source": [
    "combinedTeamDataframe.info()"
   ]
  },
  {
   "cell_type": "code",
   "execution_count": 7,
   "metadata": {},
   "outputs": [],
   "source": [
    "# combinedDataframe['Team'].value_counts()"
   ]
  },
  {
   "cell_type": "code",
   "execution_count": 7,
   "metadata": {},
   "outputs": [],
   "source": [
    "laligaTeamDf = combinedTeamDataframe.loc[combinedTeamDataframe['League'] == 'LaLiga']\n",
    "bundesligaTeamDf = combinedTeamDataframe.loc[combinedTeamDataframe['League'] == 'Bundesliga']\n",
    "ligue1TeamDf = combinedTeamDataframe.loc[combinedTeamDataframe['League'] == 'Ligue1']\n",
    "serieaTeamDf = combinedTeamDataframe.loc[combinedTeamDataframe['League'] == 'SerieA']\n",
    "eplTeamDf = combinedTeamDataframe.loc[combinedTeamDataframe['League'] == 'PremierLeague']\n",
    "\n",
    "# laliga2010Df = combinedDataframe.loc[(combinedDataframe['League'] == 'LaLiga') & (combinedDataframe['Season'] == '2010')]\n",
    "# laliga2018Df = combinedDataframe.loc[(combinedDataframe['League'] == 'LaLiga') & (combinedDataframe['Season'] == '2018')]"
   ]
  },
  {
   "cell_type": "code",
   "execution_count": 8,
   "metadata": {},
   "outputs": [
    {
     "data": {
      "text/html": [
       "<div>\n",
       "<style scoped>\n",
       "    .dataframe tbody tr th:only-of-type {\n",
       "        vertical-align: middle;\n",
       "    }\n",
       "\n",
       "    .dataframe tbody tr th {\n",
       "        vertical-align: top;\n",
       "    }\n",
       "\n",
       "    .dataframe thead th {\n",
       "        text-align: right;\n",
       "    }\n",
       "</style>\n",
       "<table border=\"1\" class=\"dataframe\">\n",
       "  <thead>\n",
       "    <tr style=\"text-align: right;\">\n",
       "      <th></th>\n",
       "      <th>Rank</th>\n",
       "      <th>Team</th>\n",
       "      <th>Played</th>\n",
       "      <th>Win</th>\n",
       "      <th>Draw</th>\n",
       "      <th>Loss</th>\n",
       "      <th>Goals For</th>\n",
       "      <th>Goals Against</th>\n",
       "      <th>Goal Difference</th>\n",
       "      <th>Points</th>\n",
       "      <th>League</th>\n",
       "      <th>Season</th>\n",
       "    </tr>\n",
       "  </thead>\n",
       "  <tbody>\n",
       "    <tr>\n",
       "      <td>0</td>\n",
       "      <td>1</td>\n",
       "      <td>Barcelona</td>\n",
       "      <td>38</td>\n",
       "      <td>30</td>\n",
       "      <td>6</td>\n",
       "      <td>2</td>\n",
       "      <td>95</td>\n",
       "      <td>21</td>\n",
       "      <td>74</td>\n",
       "      <td>96</td>\n",
       "      <td>LaLiga</td>\n",
       "      <td>2010</td>\n",
       "    </tr>\n",
       "    <tr>\n",
       "      <td>1</td>\n",
       "      <td>2</td>\n",
       "      <td>Real Madrid</td>\n",
       "      <td>38</td>\n",
       "      <td>29</td>\n",
       "      <td>5</td>\n",
       "      <td>4</td>\n",
       "      <td>102</td>\n",
       "      <td>33</td>\n",
       "      <td>69</td>\n",
       "      <td>92</td>\n",
       "      <td>LaLiga</td>\n",
       "      <td>2010</td>\n",
       "    </tr>\n",
       "    <tr>\n",
       "      <td>2</td>\n",
       "      <td>3</td>\n",
       "      <td>Valencia</td>\n",
       "      <td>38</td>\n",
       "      <td>21</td>\n",
       "      <td>8</td>\n",
       "      <td>9</td>\n",
       "      <td>64</td>\n",
       "      <td>44</td>\n",
       "      <td>20</td>\n",
       "      <td>71</td>\n",
       "      <td>LaLiga</td>\n",
       "      <td>2010</td>\n",
       "    </tr>\n",
       "    <tr>\n",
       "      <td>3</td>\n",
       "      <td>4</td>\n",
       "      <td>Villarreal</td>\n",
       "      <td>38</td>\n",
       "      <td>18</td>\n",
       "      <td>8</td>\n",
       "      <td>12</td>\n",
       "      <td>54</td>\n",
       "      <td>44</td>\n",
       "      <td>10</td>\n",
       "      <td>62</td>\n",
       "      <td>LaLiga</td>\n",
       "      <td>2010</td>\n",
       "    </tr>\n",
       "    <tr>\n",
       "      <td>4</td>\n",
       "      <td>5</td>\n",
       "      <td>Sevilla</td>\n",
       "      <td>38</td>\n",
       "      <td>17</td>\n",
       "      <td>7</td>\n",
       "      <td>14</td>\n",
       "      <td>62</td>\n",
       "      <td>61</td>\n",
       "      <td>1</td>\n",
       "      <td>58</td>\n",
       "      <td>LaLiga</td>\n",
       "      <td>2010</td>\n",
       "    </tr>\n",
       "    <tr>\n",
       "      <td>...</td>\n",
       "      <td>...</td>\n",
       "      <td>...</td>\n",
       "      <td>...</td>\n",
       "      <td>...</td>\n",
       "      <td>...</td>\n",
       "      <td>...</td>\n",
       "      <td>...</td>\n",
       "      <td>...</td>\n",
       "      <td>...</td>\n",
       "      <td>...</td>\n",
       "      <td>...</td>\n",
       "      <td>...</td>\n",
       "    </tr>\n",
       "    <tr>\n",
       "      <td>15</td>\n",
       "      <td>16</td>\n",
       "      <td>Real Valladolid</td>\n",
       "      <td>38</td>\n",
       "      <td>10</td>\n",
       "      <td>11</td>\n",
       "      <td>17</td>\n",
       "      <td>32</td>\n",
       "      <td>51</td>\n",
       "      <td>-19</td>\n",
       "      <td>41</td>\n",
       "      <td>LaLiga</td>\n",
       "      <td>2018</td>\n",
       "    </tr>\n",
       "    <tr>\n",
       "      <td>16</td>\n",
       "      <td>17</td>\n",
       "      <td>Celta Vigo</td>\n",
       "      <td>38</td>\n",
       "      <td>10</td>\n",
       "      <td>11</td>\n",
       "      <td>17</td>\n",
       "      <td>53</td>\n",
       "      <td>62</td>\n",
       "      <td>-9</td>\n",
       "      <td>41</td>\n",
       "      <td>LaLiga</td>\n",
       "      <td>2018</td>\n",
       "    </tr>\n",
       "    <tr>\n",
       "      <td>17</td>\n",
       "      <td>18</td>\n",
       "      <td>Girona</td>\n",
       "      <td>38</td>\n",
       "      <td>9</td>\n",
       "      <td>10</td>\n",
       "      <td>19</td>\n",
       "      <td>37</td>\n",
       "      <td>53</td>\n",
       "      <td>-16</td>\n",
       "      <td>37</td>\n",
       "      <td>LaLiga</td>\n",
       "      <td>2018</td>\n",
       "    </tr>\n",
       "    <tr>\n",
       "      <td>18</td>\n",
       "      <td>19</td>\n",
       "      <td>SD Huesca</td>\n",
       "      <td>38</td>\n",
       "      <td>7</td>\n",
       "      <td>12</td>\n",
       "      <td>19</td>\n",
       "      <td>43</td>\n",
       "      <td>65</td>\n",
       "      <td>-22</td>\n",
       "      <td>33</td>\n",
       "      <td>LaLiga</td>\n",
       "      <td>2018</td>\n",
       "    </tr>\n",
       "    <tr>\n",
       "      <td>19</td>\n",
       "      <td>20</td>\n",
       "      <td>Rayo Vallecano</td>\n",
       "      <td>38</td>\n",
       "      <td>8</td>\n",
       "      <td>8</td>\n",
       "      <td>22</td>\n",
       "      <td>41</td>\n",
       "      <td>70</td>\n",
       "      <td>-29</td>\n",
       "      <td>32</td>\n",
       "      <td>LaLiga</td>\n",
       "      <td>2018</td>\n",
       "    </tr>\n",
       "  </tbody>\n",
       "</table>\n",
       "<p>180 rows × 12 columns</p>\n",
       "</div>"
      ],
      "text/plain": [
       "    Rank             Team  Played  Win  Draw  Loss  Goals For  Goals Against  \\\n",
       "0      1        Barcelona      38   30     6     2         95             21   \n",
       "1      2      Real Madrid      38   29     5     4        102             33   \n",
       "2      3         Valencia      38   21     8     9         64             44   \n",
       "3      4       Villarreal      38   18     8    12         54             44   \n",
       "4      5          Sevilla      38   17     7    14         62             61   \n",
       "..   ...              ...     ...  ...   ...   ...        ...            ...   \n",
       "15    16  Real Valladolid      38   10    11    17         32             51   \n",
       "16    17       Celta Vigo      38   10    11    17         53             62   \n",
       "17    18           Girona      38    9    10    19         37             53   \n",
       "18    19        SD Huesca      38    7    12    19         43             65   \n",
       "19    20   Rayo Vallecano      38    8     8    22         41             70   \n",
       "\n",
       "    Goal Difference  Points  League Season  \n",
       "0                74      96  LaLiga   2010  \n",
       "1                69      92  LaLiga   2010  \n",
       "2                20      71  LaLiga   2010  \n",
       "3                10      62  LaLiga   2010  \n",
       "4                 1      58  LaLiga   2010  \n",
       "..              ...     ...     ...    ...  \n",
       "15              -19      41  LaLiga   2018  \n",
       "16               -9      41  LaLiga   2018  \n",
       "17              -16      37  LaLiga   2018  \n",
       "18              -22      33  LaLiga   2018  \n",
       "19              -29      32  LaLiga   2018  \n",
       "\n",
       "[180 rows x 12 columns]"
      ]
     },
     "execution_count": 8,
     "metadata": {},
     "output_type": "execute_result"
    }
   ],
   "source": [
    "laligaTeamDf"
   ]
  },
  {
   "cell_type": "code",
   "execution_count": 10,
   "metadata": {},
   "outputs": [],
   "source": [
    "# laliga2010Df"
   ]
  },
  {
   "cell_type": "code",
   "execution_count": 11,
   "metadata": {},
   "outputs": [],
   "source": [
    "# laliga2010Df['Goals For'].plot.hist()\n",
    "# laliga2010Df.plot('Rank', 'Goals For')\n",
    "# plt.xlabel('Goals For')\n",
    "# plt.ylabel('Rank')"
   ]
  },
  {
   "cell_type": "code",
   "execution_count": 9,
   "metadata": {},
   "outputs": [
    {
     "data": {
      "text/plain": [
       "Text(0, 0.5, 'Team')"
      ]
     },
     "execution_count": 9,
     "metadata": {},
     "output_type": "execute_result"
    },
    {
     "data": {
      "image/png": "[encoded data removed]",
      "text/plain": [
       "<Figure size 432x288 with 1 Axes>"
      ]
     },
     "metadata": {
      "needs_background": "light"
     },
     "output_type": "display_data"
    }
   ],
   "source": [
    "laligaTeamDf.plot('Rank', 'Goals For')\n",
    "plt.xlabel('Rank')\n",
    "plt.ylabel('Team')"
   ]
  },
  {
   "cell_type": "code",
   "execution_count": 10,
   "metadata": {},
   "outputs": [
    {
     "data": {
      "text/plain": [
       "count    180.000000\n",
       "mean      52.244444\n",
       "std       20.546887\n",
       "min       22.000000\n",
       "25%       40.000000\n",
       "50%       46.000000\n",
       "75%       58.000000\n",
       "max      121.000000\n",
       "Name: Goals For, dtype: float64"
      ]
     },
     "execution_count": 10,
     "metadata": {},
     "output_type": "execute_result"
    }
   ],
   "source": [
    "laligaTeamDf['Goals For'].describe()"
   ]
  },
  {
   "cell_type": "code",
   "execution_count": 11,
   "metadata": {},
   "outputs": [
    {
     "data": {
      "text/plain": [
       "Text(0, 0.5, 'Team')"
      ]
     },
     "execution_count": 11,
     "metadata": {},
     "output_type": "execute_result"
    },
    {
     "data": {
      "image/png": "[encoded data removed]",
      "text/plain": [
       "<Figure size 432x288 with 1 Axes>"
      ]
     },
     "metadata": {
      "needs_background": "light"
     },
     "output_type": "display_data"
    }
   ],
   "source": [
    "laligaTeamDf.plot('Rank', 'Points')\n",
    "plt.xlabel('Rank')\n",
    "plt.ylabel('Team')"
   ]
  },
  {
   "cell_type": "code",
   "execution_count": 12,
   "metadata": {},
   "outputs": [
    {
     "data": {
      "text/plain": [
       "count    180.000000\n",
       "mean      52.488889\n",
       "std       17.604116\n",
       "min       20.000000\n",
       "25%       42.000000\n",
       "50%       48.000000\n",
       "75%       60.000000\n",
       "max      100.000000\n",
       "Name: Points, dtype: float64"
      ]
     },
     "execution_count": 12,
     "metadata": {},
     "output_type": "execute_result"
    }
   ],
   "source": [
    "laligaTeamDf['Points'].describe()"
   ]
  },
  {
   "cell_type": "code",
   "execution_count": 13,
   "metadata": {},
   "outputs": [
    {
     "data": {
      "text/plain": [
       "count    180.000000\n",
       "mean      52.311111\n",
       "std       17.451061\n",
       "min       16.000000\n",
       "25%       40.000000\n",
       "50%       47.000000\n",
       "75%       65.250000\n",
       "max      100.000000\n",
       "Name: Points, dtype: float64"
      ]
     },
     "execution_count": 13,
     "metadata": {},
     "output_type": "execute_result"
    }
   ],
   "source": [
    "eplTeamDf['Points'].describe()"
   ]
  }
 ],
 "metadata": {
  "kernelspec": {
   "display_name": "Python 3",
   "language": "python",
   "name": "python3"
  },
  "language_info": {
   "codemirror_mode": {
    "name": "ipython",
    "version": 3
   },
   "file_extension": ".py",
   "mimetype": "text/x-python",
   "name": "python",
   "nbconvert_exporter": "python",
   "pygments_lexer": "ipython3",
   "version": "3.7.4"
  }
 },
 "nbformat": 4,
 "nbformat_minor": 2
}
